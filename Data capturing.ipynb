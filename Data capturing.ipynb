{
 "cells": [
  {
   "cell_type": "code",
   "execution_count": 80,
   "metadata": {},
   "outputs": [],
   "source": [
    "# 导入相关的依赖包\n",
    "import numpy as np\n",
    "import gzip\n",
    "import os \n",
    "import os.path \n",
    "import shutil \n",
    "import scipy.io as scio"
   ]
  },
  {
   "cell_type": "code",
   "execution_count": 15,
   "metadata": {},
   "outputs": [
    {
     "name": "stdout",
     "output_type": "stream",
     "text": [
      "20\n"
     ]
    }
   ],
   "source": [
    "# 本段代码用于将训练集和测试集中不同刺激情况下的数据分开\n",
    "# 刺激的类型包括以下的三种类型   '# S1 obj '       '# S2 match '       '# S2 nomatch'\n",
    "\n",
    "# 设置原始路径（对应训练集还是测试集）\n",
    "path = 'C:\\\\Users\\\\Administrator\\\\Desktop\\\\xujiu\\\\SMNI_CMI_TEST\\\\SMNI_CMI_TEST\\\\'\n",
    "# 读取路径下的的所有二十个实验对象（包括十个正对象以及十个负对象）\n",
    "all_sub_folder = os.listdir(path)\n",
    "\n",
    "# 对于每个实验对象的文件夹进行遍历操作（每个对象文件夹下面都有三十个实验）   \n",
    "# PS:对于同一个实验对象，在每次的实验中对应的刺激可能不同\n",
    "for i in range(len(all_sub_folder)):\n",
    "    sub_folder = all_sub_folder[i]  \n",
    "    whole_path = path + sub_folder \n",
    "# 对于某一个实验对象下的三十次实验样本进行遍历\n",
    "    all_sub_file = os.listdir(whole_path)\n",
    "    for j in range(len(all_sub_file)):\n",
    "# 获得某一个实验对象在某一次实验下的数据文件路径\n",
    "        new_path = whole_path + '\\\\' + all_sub_file[j]\n",
    "# 对数据文件进行读取，解码\n",
    "        fp = gzip.open(new_path)\n",
    "        contents = fp.read()\n",
    "        fp.close()\n",
    "        u_str = contents.decode('utf-8') # u_str 现在是unicode 字符串\n",
    "# 对解码后的数据文件（字符串）进行拆分，同时赋值给data变量\n",
    "        data = u_str.split('\\n')\n",
    "# 对于变量data中的第3个字符串（Python中从0开始计数）存在着刺激类型的字段    \n",
    "        matching_conditions = data[3]\n",
    "        matching_conditions = matching_conditions.split(',')\n",
    "# 对表示刺激类型的字符串进行判别，完成文件的归类拷贝        \n",
    "        if matching_conditions[0] == '# S2 nomatch':\n",
    "            targetDir = 'C:\\\\Users\\\\Administrator\\\\Desktop\\\\xujiu\\\\test\\\\S2 nomatch'\n",
    "            shutil.copy(new_path,  targetDir)"
   ]
  },
  {
   "cell_type": "code",
   "execution_count": 84,
   "metadata": {},
   "outputs": [],
   "source": [
    "# 此段代码用于从归类之后的拷贝文件中获取脑电数据以及对应实验对象的标签\n",
    "\n",
    "# 创建数组S1_test_value，用于存放数据\n",
    "# 第一维为实验样本的个数（200），第二维是单个实验样本的信道数（64），第三维是单个实验样本的长度\n",
    "S1_test_value = np.ones((200,64,256), dtype = np.float64)  \n",
    "\n",
    "# 创建数组S1_test_label，记录样本的标签\n",
    "S1_test_label = np.ones((200,1), dtype = np.float64)\n",
    "# 对应类别数据的路径，同时获得该路径下的所有实验样本\n",
    "S1_test_path = 'C:\\\\Users\\\\Administrator\\\\Desktop\\\\xujiu\\\\test\\\\S1 obj\\\\'\n",
    "S1_test = os.listdir(S1_test_path)\n",
    "\n",
    "# 遍历所有实验样本\n",
    "for i in range(len(S1_test)):\n",
    "    trial_data_path = S1_test_path + S1_test[i]\n",
    "# 进行样本标签判别，同时存入变量S1_test_label\n",
    "    if (S1_test[i])[3] == 'c':\n",
    "        S1_test_label[i] = 0\n",
    "# 读取单个实验样本\n",
    "    fp = gzip.open(trial_data_path)\n",
    "    contents = fp.read()\n",
    "    fp.close()\n",
    "    u_str = contents.decode('utf-8') # u_str 现在是unicode 字符串\n",
    "    trial_data = u_str.split('\\n')\n",
    "# 获得实验（Trial）号，用来筛选出数据\n",
    "    number_trial = trial_data[3].split(' ')[-1]\n",
    "# 定义一个空变量object_data，存放筛选出来的数据（刨去其他元数据）\n",
    "    object_data = []\n",
    "    for j in range(len(trial_data)):\n",
    "        if trial_data[j].split(' ')[0] == number_trial:\n",
    "            object_data.append(trial_data[j])\n",
    "# 对于变量object_data进行遍历，依次获得样本值data_value\n",
    "    for k in range(len(object_data)):\n",
    "        data_value = float(object_data[k].split(' ')[-1])\n",
    "# 将样本值data_value，对应填入S1_test_value\n",
    "        S1_test_value[i,k//256,k%256] = data_value\n",
    "    \n",
    "# 将数据变量S1_test_value，输出为mat格式文件\n",
    "mat_data_path = S1_test_path + 'S1_test_value.mat'\n",
    "scio.savemat(mat_data_path, {'S1_test_value':S1_test_value}) \n",
    "\n",
    "# 将标签变量S1_test_label，输出为mat格式文件\n",
    "mat_data_path = S1_test_path + 'S1_test_label.mat'\n",
    "scio.savemat(mat_data_path, {'S1_test_label':S1_test_label})  "
   ]
  },
  {
   "cell_type": "code",
   "execution_count": null,
   "metadata": {},
   "outputs": [],
   "source": []
  }
 ],
 "metadata": {
  "kernelspec": {
   "display_name": "Python 3",
   "language": "python",
   "name": "python3"
  },
  "language_info": {
   "codemirror_mode": {
    "name": "ipython",
    "version": 3
   },
   "file_extension": ".py",
   "mimetype": "text/x-python",
   "name": "python",
   "nbconvert_exporter": "python",
   "pygments_lexer": "ipython3",
   "version": "3.6.6"
  },
  "toc": {
   "base_numbering": 1,
   "nav_menu": {},
   "number_sections": true,
   "sideBar": true,
   "skip_h1_title": false,
   "title_cell": "Table of Contents",
   "title_sidebar": "Contents",
   "toc_cell": false,
   "toc_position": {},
   "toc_section_display": true,
   "toc_window_display": false
  }
 },
 "nbformat": 4,
 "nbformat_minor": 2
}
